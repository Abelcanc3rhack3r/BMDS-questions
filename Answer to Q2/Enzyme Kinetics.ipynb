{
 "cells": [
  {
   "cell_type": "markdown",
   "id": "99c44557",
   "metadata": {},
   "source": [
    "## The Rate Of Changes of the Species Corresponding to the Law of Mass Action \n"
   ]
  },
  {
   "cell_type": "markdown",
   "id": "a0d81a30",
   "metadata": {},
   "source": [
    "\n",
    "$\\frac{dE}{dt} = k_2[ES] - k_1[E][S] + k_3[ES]$\n",
    "\n",
    "$\\frac{dS}{dt} = k_2[ES] - k_1 [E][S]$\n",
    "\n",
    "$\\frac{dES}{dt} = k_1[E][S] - k_2[ES] - k_3[ES]$\n",
    "\n",
    "$\\frac{dP}{dt} = k_3[ES]$"
   ]
  },
  {
   "cell_type": "markdown",
   "id": "a9b1fa04",
   "metadata": {},
   "source": [
    "## Code Implementation\n",
    "\n",
    "\n",
    "Let us define  function fX, corresponding to $\\frac{dX}{dt}$, the change in species X w.r.t time.\n",
    "\n",
    "We have 4 derivative functions, fE, fS, fES,fP\n",
    "We define $k_{ij}$, which is the gradient of change of $j \\in \\{E,ES, S, P\\}$ at runge kutta order i.\n",
    "We have 4 terms, corresponding to each variable at each level\n",
    "\n",
    "$k_{1E}= f_E(t_0, E_0, S_0, ES_0) h$\n",
    "\n",
    "$k_{1S}= f_S(t_0, E_0, S_0, ES_0) h$\n",
    "\n",
    "$k_{1ES}= f_ES(t_0, E_0, S_0, ES_0) h$\n",
    "\n",
    "$k_{1P}= f_P(t_0, E_0, S_0, ES_0) h$\n",
    "\n",
    "$k_{2E}= f_E(t_0+ h/2, E_0 + k_{1E}/2, S_0 + k_{1S}/2, ES_0 + k_{1ES}/2) h$\n",
    "\n",
    "$k_{2S}= f_S(t_0+ h/2, E_0 + k_{1E}/2, S_0 + k_{1S}/2, ES_0 + k_{1ES}/2) h$\n",
    "\n",
    "$k_{2ES}= f_ES(t_0+ h/2, E_0 + k_{1E}/2, S_0 + k_{1S}/2, ES_0 + k_{1ES}/2) h$\n",
    "\n",
    "$k_{2P}= f_P(t_0+ h/2, E_0 + k_{1E}/2, S_0 + k_{1S}/2, ES_0 + k_{1ES}/2) h$\n",
    "\n",
    "    \n",
    "\n",
    "$k_{3E}= f_E(t_0+ h/2, E_0 + k_{2E}/2, S_0 + k_{2S}/2, ES_0 + k_{2ES}/2) h$\n",
    "\n",
    "$k_{3S}= f_S(t_0+ h/2, E_0 + k_{2E}/2, S_0 + k_{2S}/2, ES_0 + k_{2ES}/2) h$\n",
    "\n",
    "$k_{3ES}= f_ES(t_0+ h/2, E_0 + k_{2E}/2, S_0 + k_{2S}/2, ES_0 + k_{2ES}/2) h$\n",
    "\n",
    "$k_{3P}= f_P(t_0+ h/2, E_0 + k_{2E}/2, S_0 + k_{2S}/2, ES_0 + k_{2ES}/2) h$\n",
    " \n",
    "\n",
    "$k_{4E}= f_E(t_0+ h, E_0 + k_{3E}, S_0 + k_{3S}, ES_0 + k_{3ES}) h$\n",
    "\n",
    "$k_{4S}= f_S(t_0+ h, E_0 + k_{3E}, S_0 + k_{3S}, ES_0 + k_{3ES}) h$\n",
    "\n",
    "$k_{4ES}= f_{ES}(t_0+ h, E_0 + k_{3E}, S_0 + k_{3S}, ES_0 + k_{3ES}) h$\n",
    "\n",
    "$k_{4P}= f_P(t_0+ h, E_0 + k_{3E}, S_0 + k_{3S}, ES_0 + k_{3ES}) h$\n",
    "\n",
    "$E_1= E_0 + (k_{1E} + 2k_{2E} + 2k_{3E} + k_{4E})/6$\n",
    " \n",
    "$S_1= S_0 + (k_{1S} + 2k_{2S} + 2k_{3S} + k_{4S})/6$\n",
    "\n",
    "$ES_1= ES_0 + (k_{1ES} + 2k_2ES + 2k_{3ES} + k_{4ES})/6$\n",
    "\n",
    "$P_1= P_0 + (k_{1P} + 2k_{2P} + 2k_{3P} + k_{4P})/6$\n",
    " \n",
    "\n"
   ]
  },
  {
   "cell_type": "code",
   "execution_count": 11,
   "id": "f0765ec4",
   "metadata": {},
   "outputs": [],
   "source": [
    "import numpy as np\n",
    "import matplotlib.pyplot as plt"
   ]
  },
  {
   "cell_type": "markdown",
   "id": "6b029ed4",
   "metadata": {},
   "source": [
    "### Define the rate constants (rate per second)"
   ]
  },
  {
   "cell_type": "code",
   "execution_count": 2,
   "id": "c8400587",
   "metadata": {},
   "outputs": [],
   "source": [
    "\n",
    "k1 = 100/60\n",
    "k2= 600/60\n",
    "k3 = 150/60\n"
   ]
  },
  {
   "cell_type": "markdown",
   "id": "a2c7ea10",
   "metadata": {},
   "source": [
    "### Define the derivative functions"
   ]
  },
  {
   "cell_type": "code",
   "execution_count": 3,
   "id": "d859a25c",
   "metadata": {},
   "outputs": [],
   "source": [
    "\n",
    "def fE(t,E,S,ES) :\n",
    "  r= k2 * ES - k1* E * S + k3 *ES\n",
    "  return r\n",
    "\n",
    "def fS(t,E,S,ES) :\n",
    "  r= k2* ES - k1* E * S\n",
    "  return   r\n",
    "\n",
    "def fES(t,E,S,ES) :\n",
    "  r=k1 * E * S - (k2 * ES + k3 * ES)\n",
    "  return  r\n",
    "\n",
    "def fP(t,E,S,ES) :\n",
    "  r=k3 * ES\n",
    "  return k3 * ES\n",
    "\n"
   ]
  },
  {
   "cell_type": "markdown",
   "id": "28e8562b",
   "metadata": {},
   "source": [
    "### Define the Step Function, which is one step in the numerical simulation"
   ]
  },
  {
   "cell_type": "code",
   "execution_count": 4,
   "id": "1e668556",
   "metadata": {},
   "outputs": [],
   "source": [
    "\n",
    "\n",
    "def step (t0,E0,S0,ES0, P0,h):\n",
    "  # outputs t1, E1, S1, ES1, P1 , or the predicted values for the next time step, given the orevious time step\n",
    "  k1E= fE(t0, E0, S0, ES0) * h\n",
    "  k1S= fS(t0, E0, S0, ES0) * h\n",
    "  k1ES= fES(t0, E0, S0, ES0) * h\n",
    "  k1P= fP(t0, E0, S0, ES0) * h\n",
    "\n",
    "  k2E = fE(t0 + h/2 , E0 + k1E/2 , S0 + k1S/2, ES0 + k1ES/2)*h\n",
    "  k2S = fS(t0 + h/2 , E0 + k1E/2 , S0 + k1S/2, ES0 + k1ES/2)*h\n",
    "  k2ES = fES(t0 + h/2 , E0 + k1E/2 , S0 + k1S/2, ES0 + k1ES/2)*h\n",
    "  k2P = fP(t0 + h/2 , E0 + k1E/2 , S0 + k1S/2, ES0 + k1ES/2)*h\n",
    "\n",
    "  k3E = fE(t0 + h/2, E0 + k2E/2 , S0 + k2S/2 , ES0 + k2ES/2)*h\n",
    "  k3S = fS(t0 + h/2, E0 + k2E/2 , S0 + k2S/2 , ES0 + k2ES/2)*h\n",
    "  k3ES = fES(t0 + h/2, E0 + k2E/2 , S0 + k2S/2 , ES0 + k2ES/2)*h\n",
    "  k3P = fP(t0 + h/2, E0 + k2E/2 , S0 + k2S/2 , ES0 + k2ES/2)*h\n",
    "\n",
    "  k4E= fE(t0+ h, E0 + k3E, S0 + k3S, ES0 + k3E)* h\n",
    "  k4S= fS(t0+ h, E0 + k3E, S0 + k3S, ES0 + k3ES)* h\n",
    "  k4ES= fES(t0+ h, E0 + k3E, S0 + k3S, ES0 + k3ES)* h\n",
    "  k4P= fP(t0+ h, E0 + k3E, S0 + k3S, ES0 + k3ES)* h\n",
    "\n",
    "  t1 = t0 + h\n",
    "  E1 = E0 + (k1E + 2* k2E + 2 *k3E + k4E)/6\n",
    "  S1 = S0 + (k1S + 2* k2S + 2 *k3S + k4S)/6\n",
    "  ES1 = ES0 + (k1ES + 2* k2ES + 2 *k3ES + k4ES)/6\n",
    "  P1 = P0 + (k1P + 2* k2P + 2 *k3P + k4P)/6\n",
    "\n",
    "  return t1,E1,S1,ES1,P1\n",
    "\n"
   ]
  },
  {
   "cell_type": "markdown",
   "id": "7bbcf801",
   "metadata": {},
   "source": [
    "### Define the Simulation Loop\n",
    "\n",
    "\n",
    "Here, we shall be simulating the reaction between 0 and 100 seconds, with a time step of 0.01 s"
   ]
  },
  {
   "cell_type": "code",
   "execution_count": 5,
   "id": "42a2deaf",
   "metadata": {},
   "outputs": [],
   "source": [
    "\n",
    "# store the datapoints for plotting,\n",
    "# the datapoints will be stored as a list of numpy arrays, [tn,En, Sn, ESn, Pn, V], where V is velocity of reaction, or dP/dt\n",
    "datapoints = []\n",
    "\n",
    "\n",
    "#define the initial conditions\n",
    "t_start=0\n",
    "h =0.01\n",
    "t_end = 100\n",
    "def simulate(S):\n",
    "    #abort after 30 iterations, just to calculate the v0\n",
    "    E= 1\n",
    "    #S=10\n",
    "    ES=0\n",
    "    P=0\n",
    "    t=t_start\n",
    "    i=0\n",
    "    while t < t_end:\n",
    "      i+=1\n",
    "      \n",
    "      t1,E1,S1,ES1,P1 = step(t,E,S,ES,P,h)\n",
    "\n",
    "\n",
    "      # calculate the velocity of P\n",
    "\n",
    "      v = (P1- P)/ (t1-t)\n",
    "\n",
    "      # print the current state for debugging. This is commented out for production\n",
    "      #print(f\" t= {t1:.3f}, E= {E1:.3f}, S= {S1:.3f}, ES= {ES1:.3f}, P= {P1:.3f}, V= {v:.3f}\")\n",
    "\n",
    "\n",
    "\n",
    "      datapoints.append(np.array([t1,E1,S1,ES1,P1,v]))\n",
    "      t,E,S,ES,P = t1,E1,S1,ES1,P1\n",
    "\n",
    "\n",
    "\n",
    "    return datapoints\n",
    "datapoints= simulate(10)\n",
    "data_np = np.array(datapoints)\n",
    "\n",
    "\n"
   ]
  },
  {
   "cell_type": "markdown",
   "id": "0a39eaa0",
   "metadata": {},
   "source": [
    "### Plot the Concentrations of the species w.r.t Time"
   ]
  },
  {
   "cell_type": "code",
   "execution_count": 6,
   "id": "6c100517",
   "metadata": {},
   "outputs": [
    {
     "data": {
      "image/png": "[encoded data removed]",
      "text/plain": [
       "<Figure size 432x288 with 1 Axes>"
      ]
     },
     "metadata": {
      "needs_background": "light"
     },
     "output_type": "display_data"
    }
   ],
   "source": [
    "\n",
    "plt.plot(data_np[:,0], data_np[:,1], label=\"E\")\n",
    "plt.plot(data_np[:,0], data_np[:,2], label=\"S\")\n",
    "plt.plot(data_np[:,0], data_np[:,3], label=\"ES\")\n",
    "plt.plot(data_np[:,0], data_np[:,4], label=\"P\")\n",
    "\n",
    "plt.title(\"Concentrations of reactants over time\")\n",
    "plt.xlabel(\"Time (s)\")\n",
    "plt.ylabel(\"Concentration (uM)\")\n",
    "plt.legend()\n",
    "plt.show()"
   ]
  },
  {
   "cell_type": "markdown",
   "id": "d94f9c3d",
   "metadata": {},
   "source": [
    "### Initial Rate of Reaction ($V_0$) Against  Substrate Concentration"
   ]
  },
  {
   "cell_type": "code",
   "execution_count": 10,
   "id": "2b369761",
   "metadata": {},
   "outputs": [],
   "source": [
    "\n",
    "rates=[]\n",
    "substrates=[]\n",
    "for S in range (1,100):\n",
    "    datapoints= simulate(S)\n",
    "    data_np = np.array(datapoints)\n",
    "    v0= np.max(data_np[:,5])\n",
    "    rates.append(v0)\n",
    "    substrates.append(S)\n",
    "    #commented out for production purposes\n",
    "    #print(f\"S: {S}, V0: {v0}\")\n",
    "\n",
    "    #plt.plot(data_np[:, 0], data_np[:, 5], label=\"V\")\n",
    "    #plt.title(\"Concentrations of reactants over time\")\n",
    "    #plt.xlabel(\"Time (s)\")\n",
    "    #plt.ylabel(\"Concentration\")\n",
    "    #plt.legend()\n",
    "    #plt.show()\n"
   ]
  },
  {
   "cell_type": "markdown",
   "id": "ea871444",
   "metadata": {},
   "source": [
    "### Plot the Results and Obtain the Maximal Initial Veolcity"
   ]
  },
  {
   "cell_type": "code",
   "execution_count": 9,
   "id": "96ae8e20",
   "metadata": {
    "scrolled": true
   },
   "outputs": [
    {
     "name": "stdout",
     "output_type": "stream",
     "text": [
      "the maximum rate is 2.152 uM/s, it occurs at around substrate concentration of 67 uM\n"
     ]
    },
    {
     "data": {
      "image/png": "[encoded data removed]",
      "text/plain": [
       "<Figure size 432x288 with 1 Axes>"
      ]
     },
     "metadata": {
      "needs_background": "light"
     },
     "output_type": "display_data"
    }
   ],
   "source": [
    "\n",
    "\n",
    "vmax= np.max(rates)\n",
    "for i in range (1, len(rates)):\n",
    "    prev_rate= rates[i-1]\n",
    "    rate = rates[i]\n",
    "    if(rate/prev_rate<1.001 and substrates[i]>20):\n",
    "        asymp=i\n",
    "        break\n",
    "s_asymp= substrates[asymp]\n",
    "print(f\"the maximum rate is {vmax:.3f} uM/s, it occurs at around substrate concentration of {s_asymp} uM\")\n",
    "plt.plot(substrates, rates)\n",
    "plt.title(\"V0 against S\")\n",
    "plt.xlabel(\"Substrate Conc. (uM)\")\n",
    "plt.ylabel(\"Initial Rate V0 (uM/s)\")\n",
    "plt.show()"
   ]
  },
  {
   "cell_type": "markdown",
   "id": "03e9e02f",
   "metadata": {},
   "source": [
    "The maximum rate is 2.152 uM/s, it occurs at around substrate concentration of 67 uM"
   ]
  },
  {
   "cell_type": "code",
   "execution_count": null,
   "id": "d95e1d50",
   "metadata": {},
   "outputs": [],
   "source": []
  }
 ],
 "metadata": {
  "kernelspec": {
   "display_name": "Python 3 (ipykernel)",
   "language": "python",
   "name": "python3"
  },
  "language_info": {
   "codemirror_mode": {
    "name": "ipython",
    "version": 3
   },
   "file_extension": ".py",
   "mimetype": "text/x-python",
   "name": "python",
   "nbconvert_exporter": "python",
   "pygments_lexer": "ipython3",
   "version": "3.9.9"
  }
 },
 "nbformat": 4,
 "nbformat_minor": 5
}
